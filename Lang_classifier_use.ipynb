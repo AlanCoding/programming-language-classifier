{
 "cells": [
  {
   "cell_type": "code",
   "execution_count": 13,
   "metadata": {
    "collapsed": false
   },
   "outputs": [],
   "source": [
    "from lclassifier.lclassifier import *"
   ]
  },
  {
   "cell_type": "code",
   "execution_count": 15,
   "metadata": {
    "collapsed": false
   },
   "outputs": [
    {
     "data": {
      "text/plain": [
       "True"
      ]
     },
     "execution_count": 15,
     "metadata": {},
     "output_type": "execute_result"
    }
   ],
   "source": [
    "acceptable_file(\"py\")"
   ]
  },
  {
   "cell_type": "code",
   "execution_count": 16,
   "metadata": {
    "collapsed": false
   },
   "outputs": [
    {
     "name": "stdout",
     "output_type": "stream",
     "text": [
      "   total samples 931\n",
      " number of usable files 656\n",
      " \n",
      " number of read file types:  32\n",
      " number of recognized types: 14\n",
      " summary of tile types\n",
      "ats             \n",
      "clj            38  \n",
      "cs             41  \n",
      "dart            \n",
      "erlang          \n",
      "fpascal         \n",
      "fsharp          \n",
      "c              129  \n",
      "hs             33  \n",
      "gnat            \n",
      "go              \n",
      "php            55  \n",
      "ifc             \n",
      "java           51  \n",
      "js             25  \n",
      "ruby           73  \n",
      "lua             \n",
      "ocaml          35  \n",
      "oz              \n",
      "pl             34  \n",
      "py             36  \n",
      "racket         29  \n",
      "rust            \n",
      "sbcl           34  \n",
      "scala          43  \n",
      "vw              \n",
      "cint            \n",
      "javasteady      \n",
      "parrot          \n",
      "cc              \n",
      "txt             \n",
      "ozf             \n",
      " not included:  \n",
      " \n"
     ]
    }
   ],
   "source": [
    "filelist, testlist = load_file_names()\n",
    "contents, ltype, testcont = load_files(filelist, testlist)\n",
    "\n",
    "plist = [fit2, fit3, fit4, fit5, fit6]\n",
    "\n",
    "X, Xt, y, yt = train_test_split(contents, ltype, test_size=0.33)"
   ]
  },
  {
   "cell_type": "code",
   "execution_count": 17,
   "metadata": {
    "collapsed": true
   },
   "outputs": [],
   "source": [
    "pipe = fit5(Xt, yt)"
   ]
  },
  {
   "cell_type": "code",
   "execution_count": 19,
   "metadata": {
    "collapsed": false
   },
   "outputs": [
    {
     "data": {
      "text/plain": [
       "array(['hs', 'c', 'java', 'ruby', 'clj', 'hs', 'racket', 'c', 'clj',\n",
       "       'ruby', 'c', 'pl', 'c', 'c', 'scala', 'ruby', 'cs', 'c', 'cs',\n",
       "       'sbcl', 'java', 'ruby', 'pl', 'ocaml', 'ocaml', 'cs', 'hs', 'php',\n",
       "       'c', 'pl', 'c', 'scala', 'ruby', 'c', 'cs', 'c', 'ocaml', 'hs',\n",
       "       'scala', 'c', 'hs', 'ruby', 'c', 'c', 'ocaml', 'sbcl', 'ruby', 'c',\n",
       "       'c', 'ruby', 'c', 'ocaml', 'java', 'c', 'ruby', 'ruby', 'php', 'c',\n",
       "       'clj', 'cs', 'php', 'java', 'c', 'ruby', 'py', 'cs', 'scala', 'php',\n",
       "       'c', 'js', 'cs', 'js', 'c', 'php', 'php', 'php', 'pl', 'c', 'ruby',\n",
       "       'clj', 'php', 'c', 'pl', 'py', 'clj', 'c', 'c', 'py', 'sbcl', 'py',\n",
       "       'ruby', 'php', 'py', 'php', 'c', 'php', 'ruby', 'ruby', 'ruby',\n",
       "       'scala', 'py', 'ruby', 'clj', 'php', 'ruby', 'c', 'ocaml', 'racket',\n",
       "       'php', 'hs', 'hs', 'sbcl', 'ocaml', 'py', 'scala', 'ruby', 'cs',\n",
       "       'c', 'c', 'c', 'c', 'clj', 'sbcl', 'scala', 'cs', 'py', 'c', 'cs',\n",
       "       'cs', 'hs', 'c', 'java', 'php', 'java', 'js', 'clj', 'ruby', 'c',\n",
       "       'hs', 'ruby', 'c', 'php', 'py', 'scala', 'clj', 'cs', 'cs', 'ruby',\n",
       "       'sbcl', 'cs', 'scala', 'cs', 'c', 'scala', 'clj', 'c', 'clj', 'pl',\n",
       "       'ruby', 'racket', 'java', 'cs', 'js', 'ocaml', 'c', 'py', 'c',\n",
       "       'scala', 'js', 'clj', 'c', 'clj', 'ruby', 'clj', 'racket', 'c',\n",
       "       'ocaml', 'js', 'pl', 'java', 'hs', 'java', 'py', 'php', 'java',\n",
       "       'ruby', 'sbcl', 'ruby', 'php', 'scala', 'py', 'c', 'racket', 'php',\n",
       "       'c', 'js', 'java', 'php', 'java', 'pl', 'c', 'py', 'php', 'py', 'c',\n",
       "       'cs', 'py', 'cs', 'c', 'c', 'clj', 'java', 'ocaml', 'cs', 'java',\n",
       "       'ocaml', 'cs'], \n",
       "      dtype='<U6')"
      ]
     },
     "execution_count": 19,
     "metadata": {},
     "output_type": "execute_result"
    }
   ],
   "source": [
    "pipe.predict(Xt)"
   ]
  },
  {
   "cell_type": "code",
   "execution_count": null,
   "metadata": {
    "collapsed": true
   },
   "outputs": [],
   "source": []
  }
 ],
 "metadata": {
  "kernelspec": {
   "display_name": "Python 3",
   "language": "python",
   "name": "python3"
  },
  "language_info": {
   "codemirror_mode": {
    "name": "ipython",
    "version": 3
   },
   "file_extension": ".py",
   "mimetype": "text/x-python",
   "name": "python",
   "nbconvert_exporter": "python",
   "pygments_lexer": "ipython3",
   "version": "3.4.3"
  }
 },
 "nbformat": 4,
 "nbformat_minor": 0
}
